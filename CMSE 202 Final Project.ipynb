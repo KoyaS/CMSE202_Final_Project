{
 "cells": [
  {
   "cell_type": "code",
   "execution_count": 2,
   "metadata": {},
   "outputs": [],
   "source": [
    "import numpy as np\n",
    "import pandas as pd\n",
    "import json "
   ]
  },
  {
   "cell_type": "code",
   "execution_count": 3,
   "metadata": {},
   "outputs": [],
   "source": [
    "# f = open(r'./data/shipsnet.json')\n",
    "# json.load(f)\n",
    "labels_json = pd.read_json('./data/shipsnet.json')"
   ]
  },
  {
   "cell_type": "code",
   "execution_count": 4,
   "metadata": {},
   "outputs": [
    {
     "data": {
      "text/html": [
       "<div>\n",
       "<style scoped>\n",
       "    .dataframe tbody tr th:only-of-type {\n",
       "        vertical-align: middle;\n",
       "    }\n",
       "\n",
       "    .dataframe tbody tr th {\n",
       "        vertical-align: top;\n",
       "    }\n",
       "\n",
       "    .dataframe thead th {\n",
       "        text-align: right;\n",
       "    }\n",
       "</style>\n",
       "<table border=\"1\" class=\"dataframe\">\n",
       "  <thead>\n",
       "    <tr style=\"text-align: right;\">\n",
       "      <th></th>\n",
       "      <th>data</th>\n",
       "      <th>labels</th>\n",
       "      <th>locations</th>\n",
       "      <th>scene_ids</th>\n",
       "    </tr>\n",
       "  </thead>\n",
       "  <tbody>\n",
       "    <tr>\n",
       "      <th>0</th>\n",
       "      <td>[82, 89, 91, 87, 89, 87, 86, 86, 86, 86, 84, 8...</td>\n",
       "      <td>1</td>\n",
       "      <td>[-118.2254694333423, 33.73803725920789]</td>\n",
       "      <td>20180708_180909_0f47</td>\n",
       "    </tr>\n",
       "    <tr>\n",
       "      <th>1</th>\n",
       "      <td>[76, 75, 67, 62, 68, 72, 73, 73, 68, 69, 69, 6...</td>\n",
       "      <td>1</td>\n",
       "      <td>[-122.33222866289329, 37.7491755586813]</td>\n",
       "      <td>20170705_180816_103e</td>\n",
       "    </tr>\n",
       "    <tr>\n",
       "      <th>2</th>\n",
       "      <td>[125, 127, 129, 130, 126, 125, 129, 133, 132, ...</td>\n",
       "      <td>1</td>\n",
       "      <td>[-118.14283073363218, 33.736016066914175]</td>\n",
       "      <td>20180712_211331_0f06</td>\n",
       "    </tr>\n",
       "    <tr>\n",
       "      <th>3</th>\n",
       "      <td>[102, 99, 113, 106, 96, 102, 105, 105, 103, 10...</td>\n",
       "      <td>1</td>\n",
       "      <td>[-122.34784341495181, 37.76648707436548]</td>\n",
       "      <td>20170609_180756_103a</td>\n",
       "    </tr>\n",
       "    <tr>\n",
       "      <th>4</th>\n",
       "      <td>[78, 76, 74, 78, 79, 79, 79, 82, 86, 85, 83, 8...</td>\n",
       "      <td>1</td>\n",
       "      <td>[-122.34852408322172, 37.75878462398653]</td>\n",
       "      <td>20170515_180653_1007</td>\n",
       "    </tr>\n",
       "  </tbody>\n",
       "</table>\n",
       "</div>"
      ],
      "text/plain": [
       "                                                data  labels  \\\n",
       "0  [82, 89, 91, 87, 89, 87, 86, 86, 86, 86, 84, 8...       1   \n",
       "1  [76, 75, 67, 62, 68, 72, 73, 73, 68, 69, 69, 6...       1   \n",
       "2  [125, 127, 129, 130, 126, 125, 129, 133, 132, ...       1   \n",
       "3  [102, 99, 113, 106, 96, 102, 105, 105, 103, 10...       1   \n",
       "4  [78, 76, 74, 78, 79, 79, 79, 82, 86, 85, 83, 8...       1   \n",
       "\n",
       "                                   locations             scene_ids  \n",
       "0    [-118.2254694333423, 33.73803725920789]  20180708_180909_0f47  \n",
       "1    [-122.33222866289329, 37.7491755586813]  20170705_180816_103e  \n",
       "2  [-118.14283073363218, 33.736016066914175]  20180712_211331_0f06  \n",
       "3   [-122.34784341495181, 37.76648707436548]  20170609_180756_103a  \n",
       "4   [-122.34852408322172, 37.75878462398653]  20170515_180653_1007  "
      ]
     },
     "execution_count": 4,
     "metadata": {},
     "output_type": "execute_result"
    }
   ],
   "source": [
    "# Example image name: 0__20160820_233143_0c53__-122.3294838764191_37.8004805108676\n",
    "labels_json.head()"
   ]
  },
  {
   "cell_type": "code",
   "execution_count": 5,
   "metadata": {},
   "outputs": [
    {
     "data": {
      "text/plain": [
       "dtype('O')"
      ]
     },
     "execution_count": 5,
     "metadata": {},
     "output_type": "execute_result"
    }
   ],
   "source": [
    "rgbs = labels_json['data']\n",
    "r = rgbs[:6400]\n",
    "g = rgbs[6400:6400*2]\n",
    "b = rgbs[6400*2:]\n",
    "len(r), len(g), len(b)\n",
    "\n",
    "rgbs.dtype"
   ]
  },
  {
   "cell_type": "code",
   "execution_count": null,
   "metadata": {},
   "outputs": [],
   "source": []
  }
 ],
 "metadata": {
  "kernelspec": {
   "display_name": "'Python Interactive'",
   "language": "python",
   "name": "8342c86d-4b0a-4253-8d7f-f53c52d237b8"
  },
  "language_info": {
   "codemirror_mode": {
    "name": "ipython",
    "version": 3
   },
   "file_extension": ".py",
   "mimetype": "text/x-python",
   "name": "python",
   "nbconvert_exporter": "python",
   "pygments_lexer": "ipython3",
   "version": "3.5.4"
  }
 },
 "nbformat": 4,
 "nbformat_minor": 4
}
